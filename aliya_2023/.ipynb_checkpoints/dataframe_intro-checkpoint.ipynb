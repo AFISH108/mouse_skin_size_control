{
 "cells": [
  {
   "cell_type": "code",
   "execution_count": 1,
   "id": "f58a1daa-8037-48e8-a335-3b4372e1f55c",
   "metadata": {},
   "outputs": [],
   "source": [
    "import pandas as pd\n",
    "import numpy as np"
   ]
  },
  {
   "cell_type": "code",
   "execution_count": 18,
   "id": "13df0819-e70c-492b-ad78-7647ca7fa698",
   "metadata": {},
   "outputs": [],
   "source": [
    "# Creating empty dataframe\n",
    "df = pd.DataFrame()\n",
    "\n",
    "dirname = '/Users/aliyafisher/OneDrive - Stanford/07-17-2023 Ablation test/'"
   ]
  },
  {
   "cell_type": "code",
   "execution_count": 12,
   "id": "7ef7e23a-dad3-4d7d-9174-b8997b749c5b",
   "metadata": {},
   "outputs": [],
   "source": [
    "l = [1,2,3]"
   ]
  },
  {
   "cell_type": "code",
   "execution_count": 16,
   "id": "79a775f7-6f88-412a-af85-82680d6254de",
   "metadata": {},
   "outputs": [],
   "source": [
    "df['name'] = l"
   ]
  },
  {
   "cell_type": "code",
   "execution_count": 17,
   "id": "add63857-6fae-45d5-bd3a-e840ec7642cc",
   "metadata": {},
   "outputs": [
    {
     "data": {
      "text/html": [
       "<div>\n",
       "<style scoped>\n",
       "    .dataframe tbody tr th:only-of-type {\n",
       "        vertical-align: middle;\n",
       "    }\n",
       "\n",
       "    .dataframe tbody tr th {\n",
       "        vertical-align: top;\n",
       "    }\n",
       "\n",
       "    .dataframe thead th {\n",
       "        text-align: right;\n",
       "    }\n",
       "</style>\n",
       "<table border=\"1\" class=\"dataframe\">\n",
       "  <thead>\n",
       "    <tr style=\"text-align: right;\">\n",
       "      <th></th>\n",
       "      <th>name</th>\n",
       "    </tr>\n",
       "  </thead>\n",
       "  <tbody>\n",
       "    <tr>\n",
       "      <th>0</th>\n",
       "      <td>1</td>\n",
       "    </tr>\n",
       "    <tr>\n",
       "      <th>1</th>\n",
       "      <td>2</td>\n",
       "    </tr>\n",
       "    <tr>\n",
       "      <th>2</th>\n",
       "      <td>3</td>\n",
       "    </tr>\n",
       "  </tbody>\n",
       "</table>\n",
       "</div>"
      ],
      "text/plain": [
       "   name\n",
       "0     1\n",
       "1     2\n",
       "2     3"
      ]
     },
     "execution_count": 17,
     "metadata": {},
     "output_type": "execute_result"
    }
   ],
   "source": [
    "df"
   ]
  },
  {
   "cell_type": "code",
   "execution_count": 17,
   "id": "b6cb915e-20cc-4ea0-8bb1-258645a7d6b1",
   "metadata": {},
   "outputs": [
    {
     "data": {
      "text/html": [
       "<div>\n",
       "<style scoped>\n",
       "    .dataframe tbody tr th:only-of-type {\n",
       "        vertical-align: middle;\n",
       "    }\n",
       "\n",
       "    .dataframe tbody tr th {\n",
       "        vertical-align: top;\n",
       "    }\n",
       "\n",
       "    .dataframe thead th {\n",
       "        text-align: right;\n",
       "    }\n",
       "</style>\n",
       "<table border=\"1\" class=\"dataframe\">\n",
       "  <thead>\n",
       "    <tr style=\"text-align: right;\">\n",
       "      <th></th>\n",
       "      <th>name</th>\n",
       "    </tr>\n",
       "  </thead>\n",
       "  <tbody>\n",
       "    <tr>\n",
       "      <th>0</th>\n",
       "      <td>1</td>\n",
       "    </tr>\n",
       "    <tr>\n",
       "      <th>1</th>\n",
       "      <td>2</td>\n",
       "    </tr>\n",
       "    <tr>\n",
       "      <th>2</th>\n",
       "      <td>3</td>\n",
       "    </tr>\n",
       "  </tbody>\n",
       "</table>\n",
       "</div>"
      ],
      "text/plain": [
       "   name\n",
       "0     1\n",
       "1     2\n",
       "2     3"
      ]
     },
     "execution_count": 17,
     "metadata": {},
     "output_type": "execute_result"
    }
   ],
   "source": []
  },
  {
   "cell_type": "code",
   "execution_count": 35,
   "id": "68b5e694-51a6-4d92-ba2f-84a9f75d6e60",
   "metadata": {},
   "outputs": [
    {
     "name": "stdout",
     "output_type": "stream",
     "text": [
      "[   Cell name  Region\n",
      "0          a       1\n",
      "1          b       1\n",
      "2          c       1\n",
      "3          d       1\n",
      "4          e       1\n",
      "5          f       1\n",
      "6          g       1\n",
      "7  dead cell       1,    Cell name  Region\n",
      "0          a       2\n",
      "1          b       2\n",
      "2          c       2\n",
      "3          d       2\n",
      "4          e       2\n",
      "5          f       2\n",
      "6          g       2\n",
      "7          h       2\n",
      "8          i       2\n",
      "9  dead cell       2,     Cell name  Region\n",
      "0           a       3\n",
      "1           b       3\n",
      "2           c       3\n",
      "3           d       3\n",
      "4           e       3\n",
      "5           f       3\n",
      "6  lucky cell       3]\n"
     ]
    },
    {
     "ename": "TypeError",
     "evalue": "list indices must be integers or slices, not str",
     "output_type": "error",
     "traceback": [
      "\u001b[0;31m---------------------------------------------------------------------------\u001b[0m",
      "\u001b[0;31mTypeError\u001b[0m                                 Traceback (most recent call last)",
      "Cell \u001b[0;32mIn[35], line 21\u001b[0m\n\u001b[1;32m     12\u001b[0m \u001b[38;5;66;03m#    print(_df)\u001b[39;00m\n\u001b[1;32m     13\u001b[0m \n\u001b[1;32m     14\u001b[0m \n\u001b[0;32m   (...)\u001b[0m\n\u001b[1;32m     18\u001b[0m  \u001b[38;5;66;03m#   volumes[k]= cellvolumes\u001b[39;00m\n\u001b[1;32m     19\u001b[0m \u001b[38;5;66;03m#df = pd.concat(master_df,ignore_index=True)\u001b[39;00m\n\u001b[1;32m     20\u001b[0m \u001b[38;5;28mprint\u001b[39m(master_df)\n\u001b[0;32m---> 21\u001b[0m \u001b[43mmaster_df\u001b[49m\u001b[43m[\u001b[49m\u001b[38;5;124;43m'\u001b[39;49m\u001b[38;5;124;43mRegion\u001b[39;49m\u001b[38;5;124;43m'\u001b[39;49m\u001b[43m]\u001b[49m\n",
      "\u001b[0;31mTypeError\u001b[0m: list indices must be integers or slices, not str"
     ]
    }
   ],
   "source": [
    "excelname= dirname + 'ablation timepoints.xlsx'\n",
    "master_df = []\n",
    "for regionname in range (1,4):\n",
    "    \n",
    "    annotations = pd.read_excel(excelname,index_col=0,sheet_name='R'+str(regionname))\n",
    "\n",
    "    colnames = annotations.index\n",
    "    _df = pd.DataFrame()\n",
    "    _df['Cell name'] = colnames\n",
    "    _df['Region'] = regionname\n",
    "    master_df.append(_df)\n",
    "#    print(_df)\n",
    "\n",
    "\n",
    "#    for i,cellname in enumerate(colnames):\n",
    " #       for j,time in enumerate(['t0','t1','t2','t3']):\n",
    "#\n",
    " #   volumes[k]= cellvolumes\n",
    "#df = pd.concat(master_df,ignore_index=True)\n",
    "print(master_df)\n",
    "master_df['Region']"
   ]
  },
  {
   "cell_type": "code",
   "execution_count": 37,
   "id": "0b19d2a6-4bc9-4b54-a015-0374bf7e934a",
   "metadata": {},
   "outputs": [
    {
     "data": {
      "text/plain": [
       "0     1\n",
       "1     1\n",
       "2     1\n",
       "3     1\n",
       "4     1\n",
       "5     1\n",
       "6     1\n",
       "7     1\n",
       "8     2\n",
       "9     2\n",
       "10    2\n",
       "11    2\n",
       "12    2\n",
       "13    2\n",
       "14    2\n",
       "15    2\n",
       "16    2\n",
       "17    2\n",
       "18    3\n",
       "19    3\n",
       "20    3\n",
       "21    3\n",
       "22    3\n",
       "23    3\n",
       "24    3\n",
       "Name: Region, dtype: int64"
      ]
     },
     "execution_count": 37,
     "metadata": {},
     "output_type": "execute_result"
    }
   ],
   "source": [
    "excelname= dirname + 'ablation timepoints.xlsx'\n",
    "master_df = []\n",
    "for regionname in range (1,4):\n",
    "    \n",
    "    annotations = pd.read_excel(excelname,index_col=0,sheet_name='R'+str(regionname))\n",
    "\n",
    "    colnames = annotations.index\n",
    "    _df = pd.DataFrame()\n",
    "    _df['Cell name'] = colnames\n",
    "    _df['Region'] = regionname\n",
    "    master_df.append(_df)\n",
    "#    print(_df)\n",
    "\n",
    "\n",
    "#    for i,cellname in enumerate(colnames):\n",
    " #       for j,time in enumerate(['t0','t1','t2','t3']):\n",
    "#\n",
    " #   volumes[k]= cellvolumes\n",
    "master_df = pd.concat(master_df,ignore_index=True)\n",
    "master_df['Region']"
   ]
  },
  {
   "cell_type": "code",
   "execution_count": 39,
   "id": "0c7a3fbe-8a18-494e-946c-1d53c729093a",
   "metadata": {},
   "outputs": [
    {
     "data": {
      "text/plain": [
       "0     2\n",
       "1     2\n",
       "2     2\n",
       "3     2\n",
       "4     2\n",
       "5     2\n",
       "6     2\n",
       "7     2\n",
       "8     4\n",
       "9     4\n",
       "10    4\n",
       "11    4\n",
       "12    4\n",
       "13    4\n",
       "14    4\n",
       "15    4\n",
       "16    4\n",
       "17    4\n",
       "18    6\n",
       "19    6\n",
       "20    6\n",
       "21    6\n",
       "22    6\n",
       "23    6\n",
       "24    6\n",
       "Name: Region, dtype: int64"
      ]
     },
     "execution_count": 39,
     "metadata": {},
     "output_type": "execute_result"
    }
   ],
   "source": [
    "master_df['Vol_t3'] - master_df['Vol_t2'] "
   ]
  },
  {
   "cell_type": "code",
   "execution_count": null,
   "id": "91675664-1969-4e80-9073-271708e33acd",
   "metadata": {},
   "outputs": [],
   "source": []
  }
 ],
 "metadata": {
  "kernelspec": {
   "display_name": "Python 3 (ipykernel)",
   "language": "python",
   "name": "python3"
  },
  "language_info": {
   "codemirror_mode": {
    "name": "ipython",
    "version": 3
   },
   "file_extension": ".py",
   "mimetype": "text/x-python",
   "name": "python",
   "nbconvert_exporter": "python",
   "pygments_lexer": "ipython3",
   "version": "3.9.17"
  }
 },
 "nbformat": 4,
 "nbformat_minor": 5
}
